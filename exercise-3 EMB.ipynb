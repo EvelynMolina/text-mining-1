{
 "cells": [
  {
   "cell_type": "code",
   "execution_count": 1,
   "metadata": {
    "autoscroll": false,
    "ein.hycell": false,
    "ein.tags": "worksheet-0",
    "slideshow": {
     "slide_type": "-"
    }
   },
   "outputs": [
    {
     "name": "stdout",
     "output_type": "stream",
     "text": [
      "\u001b[33mYou are using pip version 19.0.3, however version 19.1 is available.\r\n",
      "You should consider upgrading via the 'pip install --upgrade pip' command.\u001b[0m\r\n"
     ]
    }
   ],
   "source": [
    "! pip install --quiet gensim"
   ]
  },
  {
   "cell_type": "code",
   "execution_count": 1,
   "metadata": {
    "autoscroll": false,
    "ein.hycell": false,
    "ein.tags": "worksheet-0",
    "slideshow": {
     "slide_type": "-"
    }
   },
   "outputs": [],
   "source": [
    "import pandas as pd\n",
    "import re\n",
    "\n",
    "yelps = pd.read_csv('sentiment/yelps.csv').sample(frac=1).reset_index(drop=True)"
   ]
  },
  {
   "cell_type": "code",
   "execution_count": 2,
   "metadata": {},
   "outputs": [],
   "source": [
    "from bs4 import BeautifulSoup\n",
    "\n",
    "def clean_yelp(s):\n",
    "    s = BeautifulSoup(s, 'html5lib').get_text()\n",
    "    s = ' '.join(s.split())\n",
    "    s = s.strip().lower()\n",
    "    return s"
   ]
  },
  {
   "cell_type": "code",
   "execution_count": 3,
   "metadata": {
    "autoscroll": false,
    "ein.hycell": false,
    "ein.tags": "worksheet-0",
    "slideshow": {
     "slide_type": "-"
    }
   },
   "outputs": [],
   "source": [
    "def tokenize(s):\n",
    "    \"\"\" Returns a list of strings (tokens) from the document \"\"\"\n",
    "    t = r'(?u)\\b\\w+\\b'\n",
    "    t = re.compile(t)\n",
    "    return t.findall(s)\n",
    "\n",
    "    # Implement this function!\n",
    "    # Hint: If you look at the sklearn source code on github, \n",
    "    # you will find a good regular expression they use as a default\n",
    "    # tokenizer in CountVectorizer -- this is the tokenizer\n",
    "    # we have been using until now!\n",
    "    # But you need to implement your own now. \n",
    "    pass"
   ]
  },
  {
   "cell_type": "code",
   "execution_count": 4,
   "metadata": {
    "autoscroll": false,
    "ein.hycell": false,
    "ein.tags": "worksheet-0",
    "slideshow": {
     "slide_type": "-"
    }
   },
   "outputs": [
    {
     "name": "stderr",
     "output_type": "stream",
     "text": [
      "/anaconda3/lib/python3.6/site-packages/bs4/__init__.py:282: UserWarning: \"https://www.consumeraffairs.com/news/mypillow-gets-a-rude-awakening-as-the-better-business-bureau-gives-it-an-f-010517.html\" looks like a URL. Beautiful Soup is not an HTTP client. You should probably use an HTTP client like requests to get the document behind the URL, and feed that document to Beautiful Soup.\n",
      "  ' that document to Beautiful Soup.' % decoded_markup\n",
      "/anaconda3/lib/python3.6/site-packages/bs4/__init__.py:219: UserWarning: \"b'..'\" looks like a filename, not markup. You should probably open this file and pass the filehandle into Beautiful Soup.\n",
      "  ' Beautiful Soup.' % markup)\n"
     ]
    }
   ],
   "source": [
    "from sklearn.feature_extraction.text import CountVectorizer\n",
    "from sklearn.decomposition import TruncatedSVD\n",
    "\n",
    "# Create a count vectorizer, using the preprocessor and tokenizer from above\n",
    "vectorizer = CountVectorizer(preprocessor = clean_yelp, tokenizer = tokenize)\n",
    "V = vectorizer.fit_transform(yelps.text)\n",
    "# use TruncatedSVD from Sklearn to generate a term embedding matrix for your data\n",
    "# that is 100 dimensional in size.\n",
    "svd = TruncatedSVD(n_components=100)\n",
    "SVD = svd.fit_transform(V)  \n",
    "\n",
    "# Embed your documents via that term embedding matrix (this is just the PCA of the \n",
    "# TF matrix, as returned by \"transform\" on TruncatedSVD\n",
    "\n",
    "# Here you should have TWO vector representations of your Yelp data: \n",
    "# 1. The original TF matrix\n",
    "# 2. The first 100 components of the PCA of that matrix, as performed by TruncatedSVD"
   ]
  },
  {
   "cell_type": "code",
   "execution_count": 5,
   "metadata": {
    "autoscroll": false,
    "ein.hycell": false,
    "ein.tags": "worksheet-0",
    "slideshow": {
     "slide_type": "-"
    }
   },
   "outputs": [],
   "source": [
    "from sklearn.metrics import accuracy_score\n",
    "from sklearn.linear_model import LogisticRegression\n",
    "\n",
    "def test_holdout_vectors(V, y, cutoff):\n",
    "    model = LogisticRegression()\n",
    "    model.fit(V[:cutoff], y[:cutoff])\n",
    "    preds = model.predict(V[cutoff:])\n",
    "    return accuracy_score(preds, y[cutoff:])"
   ]
  },
  {
   "cell_type": "code",
   "execution_count": 6,
   "metadata": {
    "autoscroll": false,
    "ein.hycell": false,
    "ein.tags": "worksheet-0",
    "slideshow": {
     "slide_type": "-"
    }
   },
   "outputs": [
    {
     "name": "stdout",
     "output_type": "stream",
     "text": [
      "cut: 100 accuracy 100 dimensions: 0.773\n",
      "cut: 1500 accuracy 100 dimensions: 0.872\n",
      "cut: 5000 accuracy 100 dimensions: 0.887\n",
      "cut: 10000 accuracy 100 dimensions: 0.89\n",
      "cut: 50000 accuracy 100 dimensions: 0.892\n",
      "cut: 100 accuracy Full: 0.801\n",
      "cut: 1500 accuracy Full: 0.919\n",
      "cut: 5000 accuracy Full: 0.939\n",
      "cut: 10000 accuracy Full: 0.948\n",
      "cut: 50000 accuracy Full: 0.959\n"
     ]
    }
   ],
   "source": [
    "# Test your vector representations using the above function, test_holdout_vectors. \n",
    "# for several levels of \"cutoff\". \n",
    "c = [100, 1500, 5000, 10000, 50000]\n",
    "for i in c:\n",
    "    print(\"cut:\", i, \"accuracy 100 dimensions:\", round(test_holdout_vectors(SVD, yelps.positive, i),3))\n",
    "\n",
    "for i in c:\n",
    "    print(\"cut:\", i, \"accuracy Full:\", round(test_holdout_vectors(V, yelps.positive, i),3))\n",
    "\n",
    "# This function simulates training on a small part of your data and testing on the rest.\n",
    "# Thus, it's as though you have some labelled data but a bunch of unlabelled data. \n",
    "# This is essentially a semi-supervised situation. \n",
    "\n",
    "# Do the word embeddings generated via SVD allow you to pull information from the \n",
    "# unlabeled data and improve your score given a small training set? "
   ]
  },
  {
   "cell_type": "code",
   "execution_count": 7,
   "metadata": {
    "autoscroll": false,
    "ein.hycell": false,
    "ein.tags": "worksheet-0",
    "slideshow": {
     "slide_type": "-"
    }
   },
   "outputs": [
    {
     "name": "stderr",
     "output_type": "stream",
     "text": [
      "/anaconda3/lib/python3.6/site-packages/bs4/__init__.py:282: UserWarning: \"https://www.consumeraffairs.com/news/mypillow-gets-a-rude-awakening-as-the-better-business-bureau-gives-it-an-f-010517.html\" looks like a URL. Beautiful Soup is not an HTTP client. You should probably use an HTTP client like requests to get the document behind the URL, and feed that document to Beautiful Soup.\n",
      "  ' that document to Beautiful Soup.' % decoded_markup\n",
      "/anaconda3/lib/python3.6/site-packages/bs4/__init__.py:219: UserWarning: \"b'..'\" looks like a filename, not markup. You should probably open this file and pass the filehandle into Beautiful Soup.\n",
      "  ' Beautiful Soup.' % markup)\n",
      "/anaconda3/lib/python3.6/site-packages/smart_open/ssh.py:34: UserWarning: paramiko missing, opening SSH/SCP/SFTP paths will be disabled.  `pip install paramiko` to suppress\n",
      "  warnings.warn('paramiko missing, opening SSH/SCP/SFTP paths will be disabled.  `pip install paramiko` to suppress')\n"
     ]
    }
   ],
   "source": [
    "import multiprocessing\n",
    "cores = multiprocessing.cpu_count()\n",
    "sentences = pd.Series([])\n",
    "for val in yelps.text:\n",
    "    sentences = sentences.append(pd.Series([tokenize(clean_yelp(val))]))\n",
    "\n",
    "\n",
    "from gensim.models import Word2Vec\n",
    "\n",
    "# Next, create another term embedding via Word2Vec, also 100 dimensional\n",
    "# Look at the documentation from the library gensim and see what hyperparameters\n",
    "# you can choose to tune. \n",
    "# Note: training takes time, so you probably won't want to try too many!\n",
    "\n",
    "\n",
    "# pass the cleaned and tokenized yelp reviews as \"sentences\" to your model\n",
    "# to build the vocabulary and train the word vectors. "
   ]
  },
  {
   "cell_type": "code",
   "execution_count": 8,
   "metadata": {},
   "outputs": [
    {
     "data": {
      "text/plain": [
       "(268369450, 362492790)"
      ]
     },
     "execution_count": 8,
     "metadata": {},
     "output_type": "execute_result"
    }
   ],
   "source": [
    "w2v = Word2Vec(size=150, window=2, alpha=0.02, \n",
    "               min_alpha=0.0006, workers= cores-1)\n",
    "\n",
    "\n",
    "w2v.build_vocab(sentences)\n",
    "w2v.train(sentences, total_examples=w2v.corpus_count, epochs=30)"
   ]
  },
  {
   "cell_type": "code",
   "execution_count": 9,
   "metadata": {
    "autoscroll": false,
    "ein.hycell": false,
    "ein.tags": "worksheet-0",
    "slideshow": {
     "slide_type": "-"
    }
   },
   "outputs": [],
   "source": [
    "# use the embed_w2v function to embed your Yelp reviews using the new\n",
    "# word2vec word embeddings. Each review will be a normalized sum of the\n",
    "# words that it is made of. \n",
    "# See how this improves the scores in the classification task using\n",
    "# test_holdout_vectors -- is word2vec better? At what training-set sizes does it help\n",
    "# more? "
   ]
  },
  {
   "cell_type": "code",
   "execution_count": 10,
   "metadata": {
    "autoscroll": false,
    "ein.hycell": false,
    "ein.tags": "worksheet-0",
    "slideshow": {
     "slide_type": "-"
    }
   },
   "outputs": [
    {
     "name": "stdout",
     "output_type": "stream",
     "text": [
      "cut: 100 accuracy 100 dimensions: 0.773\n",
      "cut: 1500 accuracy 100 dimensions: 0.872\n",
      "cut: 5000 accuracy 100 dimensions: 0.887\n",
      "cut: 10000 accuracy 100 dimensions: 0.89\n",
      "cut: 50000 accuracy 100 dimensions: 0.892\n",
      "cut: 100 accuracy Full: 0.801\n",
      "cut: 1500 accuracy Full: 0.919\n",
      "cut: 5000 accuracy Full: 0.939\n",
      "cut: 10000 accuracy Full: 0.948\n",
      "cut: 50000 accuracy Full: 0.959\n",
      "cut: 100 accuracy w2v: 0.818\n",
      "cut: 1500 accuracy w2v: 0.909\n",
      "cut: 5000 accuracy w2v: 0.932\n",
      "cut: 10000 accuracy w2v: 0.939\n",
      "cut: 50000 accuracy w2v: 0.947\n"
     ]
    }
   ],
   "source": [
    "import numpy as np\n",
    "\n",
    "def embed_w2v(tokens, w2v):\n",
    "    idxs = [w2v.wv.vocab.get(t) for t in tokens]\n",
    "    idxs = [t.index for t in idxs if t]\n",
    "    N = w2v.wv.vectors.shape[1]\n",
    "    if len(idxs) < 1:\n",
    "        return np.zeros(N)\n",
    "    a = np.sum(w2v.wv.vectors[idxs, :], axis=0)\n",
    "    a /= np.linalg.norm(a)\n",
    "    return a\n",
    "\n",
    "\n",
    "# use as follows: np.array([embed_w2v(t, w2v) for t in X])\n",
    "\n",
    "\n",
    "c = [100, 1500, 5000, 10000, 50000]\n",
    "for i in c:\n",
    "    print(\"cut:\", i, \"accuracy 100 dimensions:\", round(test_holdout_vectors(SVD, yelps.positive, i),3))\n",
    "\n",
    "for i in c:\n",
    "    print(\"cut:\", i, \"accuracy Full:\", round(test_holdout_vectors(V, yelps.positive, i),3))\n",
    "\n",
    "for i in c:\n",
    "    print(\"cut:\", i, \"accuracy w2v:\", round(test_holdout_vectors(np.array([embed_w2v(t, w2v) for t in sentences]), yelps.positive, i),3))\n",
    "\n"
   ]
  },
  {
   "cell_type": "markdown",
   "metadata": {},
   "source": [
    "Depending on the parameters w2v performes better or worst. In this case it performes better than the other two models"
   ]
  },
  {
   "cell_type": "code",
   "execution_count": 11,
   "metadata": {
    "autoscroll": false,
    "ein.hycell": false,
    "ein.tags": "worksheet-0",
    "slideshow": {
     "slide_type": "-"
    }
   },
   "outputs": [],
   "source": [
    "import pandas as pd\n",
    "import re\n",
    "import spacy\n",
    "from functools import reduce\n",
    "\n",
    "nlp = spacy.load(\"en\")\n",
    "pats = [re.compile(r'https?:\\/\\/[^\\s]+'), \n",
    "        re.compile(r'rt\\s*@\\w+\\s?:?'),\n",
    "        re.compile(r'@\\w+')]\n",
    "\n",
    "def clean_twitter(s):\n",
    "    \"\"\" Cleans Twitter specific issues\n",
    "    \n",
    "    Should probably clean out mentions, URLs, and RT's.\n",
    "    \"\"\"\n",
    "    s = re.sub('RT @[\\w]*:|RT @[\\w]*=:', '', str(s)) # remove RT's\n",
    "    s = re.sub('(@[A-Za-z]+[A-Za-z0-9-_]+)', '', str(s)) # remove mentions\n",
    "    s = re.sub(r'http\\S+', '', str(s)) # remove http links\n",
    "    s = re.sub(r'[:;,.\\'\"\"!\\s]',' ', str(s)) # remove special caracters\n",
    "    doc = nlp(s) # using spacy\n",
    "    s = ' '.join([token.lemma_ for token in doc]) #lemmatizing\n",
    "   \n",
    "    s = s.lower()\n",
    "    _sub = lambda s,pat: re.sub(pat, '', s)\n",
    "    s = reduce(_sub, pats, s)\n",
    "    s = ' '.join(s.split()).strip()\n",
    "    # TODO: Use regular expressions to remove unwanted\n",
    "    # text and clean up our tweets to be more usable!\n",
    "\n",
    "    # BONUS: Try using the library \"spacy\" to \n",
    "    # do further processing, such as lemmatizing\n",
    "    # or replacing Named Entities with constants (i.e. \"[NAMED]\")\n",
    "    # or adding the part of speech or dependency code to the word \n",
    "\n",
    "    return s"
   ]
  },
  {
   "cell_type": "code",
   "execution_count": 12,
   "metadata": {
    "autoscroll": false,
    "ein.hycell": false,
    "ein.tags": "worksheet-0",
    "slideshow": {
     "slide_type": "-"
    }
   },
   "outputs": [],
   "source": [
    "# Load tweet!\n",
    "# NOTE: this file needs to be downloaded from Box! \n",
    "\n",
    "with open('tweets/tweets.txt') as f:\n",
    "    tweets = pd.Series(f.readlines())\n",
    "    \n",
    "tweets2 = tweets.sample(10000)"
   ]
  },
  {
   "cell_type": "code",
   "execution_count": 13,
   "metadata": {},
   "outputs": [],
   "source": [
    "vectorizert = CountVectorizer(preprocessor = clean_twitter)\n",
    "Vt = vectorizert.fit_transform(tweets2)\n",
    "# use TruncatedSVD from Sklearn to generate a term embedding matrix for your data\n",
    "# that is 100 dimensional in size.\n",
    "svdt = TruncatedSVD(n_components=100)\n",
    "SVDt = svd.fit_transform(Vt) "
   ]
  },
  {
   "cell_type": "code",
   "execution_count": 14,
   "metadata": {},
   "outputs": [],
   "source": [
    "sentences_t= [clean_twitter(val).split(' ') for val in tweets2]\n",
    "w2v_t = Word2Vec(sentences_t, workers=5)\n",
    "w2v_twitter = np.array([embed_w2v(val, w2v_t) for val in sentences_t])"
   ]
  },
  {
   "cell_type": "code",
   "execution_count": 15,
   "metadata": {
    "autoscroll": false,
    "ein.hycell": false,
    "ein.tags": "worksheet-0",
    "slideshow": {
     "slide_type": "-"
    }
   },
   "outputs": [],
   "source": [
    "# Now embed this twitter data, again using Word2Vec and LSA (SVD)\n",
    "# you don't have any labels, but you might be able to \n",
    "# find some interesting phenomena. \n",
    "\n",
    "# Explore using either or both of the following tools: \n",
    "# 1. Word2Vec has a built in feature for getting most similar\n",
    "# words, including via positive/negative examples (subtraction)\n",
    "# What happens when you subtract \"hillary\" from \"trump\"? \n",
    "\n",
    "# Bonus: build a similar feature for your LSA features and\n",
    "# see if you can do similar vector math\n",
    "\n",
    "# 2. Use the visualize_dist function to see how\n",
    "# the tweet-tweet distance looks for a selection\n",
    "# of random tweets. Do you agree with the distance? \n",
    "# Does one embedding seem better than another? "
   ]
  },
  {
   "cell_type": "code",
   "execution_count": 16,
   "metadata": {},
   "outputs": [
    {
     "data": {
      "text/plain": [
       "[('president', 0.9855932593345642),\n",
       " ('hillary', 0.979468822479248),\n",
       " ('donald', 0.9792205691337585),\n",
       " ('’s', 0.973223865032196),\n",
       " ('an', 0.9718804359436035),\n",
       " ('the', 0.9715105891227722),\n",
       " ('agree', 0.9700748324394226),\n",
       " ('good', 0.9699569344520569),\n",
       " ('win', 0.9696658253669739),\n",
       " ('man', 0.9678012132644653)]"
      ]
     },
     "execution_count": 16,
     "metadata": {},
     "output_type": "execute_result"
    }
   ],
   "source": [
    "w2v_t.wv.most_similar('trump')"
   ]
  },
  {
   "cell_type": "code",
   "execution_count": 17,
   "metadata": {},
   "outputs": [
    {
     "data": {
      "text/plain": [
       "[('clinton', 0.9876598119735718),\n",
       " ('the', 0.9824522733688354),\n",
       " ('trump', 0.979468822479248),\n",
       " ('obama', 0.9774444699287415),\n",
       " ('an', 0.9765650033950806),\n",
       " ('’s', 0.9758151769638062),\n",
       " ('man', 0.9745132327079773),\n",
       " ('to', 0.9742404222488403),\n",
       " ('of', 0.9741161465644836),\n",
       " ('with', 0.972431480884552)]"
      ]
     },
     "execution_count": 17,
     "metadata": {},
     "output_type": "execute_result"
    }
   ],
   "source": [
    "w2v_t.wv.most_similar('hillary')"
   ]
  },
  {
   "cell_type": "code",
   "execution_count": 18,
   "metadata": {},
   "outputs": [
    {
     "data": {
      "text/plain": [
       "[('today', 0.21320399641990662),\n",
       " ('on', 0.19698399305343628),\n",
       " ('islamophobia', 0.18397989869117737),\n",
       " ('u', 0.16512557864189148),\n",
       " ('s', 0.15675951540470123),\n",
       " ('-', 0.13721688091754913),\n",
       " ('islam', 0.13624869287014008),\n",
       " ('lesson', 0.13417547941207886),\n",
       " ('muslimsarebeautiful', 0.13059578835964203),\n",
       " ('enlist', 0.12727665901184082)]"
      ]
     },
     "execution_count": 18,
     "metadata": {},
     "output_type": "execute_result"
    }
   ],
   "source": [
    "w2v_t.wv.most_similar(positive=['hillary'], negative=['trump'])"
   ]
  },
  {
   "cell_type": "code",
   "execution_count": 19,
   "metadata": {},
   "outputs": [
    {
     "data": {
      "text/plain": [
       "[('🇸', 0.7297031283378601),\n",
       " ('🇺', 0.7235629558563232),\n",
       " ('🌟', 0.6665850281715393),\n",
       " ('❤', 0.5398600101470947),\n",
       " ('🚂', 0.5105487704277039),\n",
       " ('🇷', 0.49803945422172546),\n",
       " ('☑', 0.49380365014076233),\n",
       " ('fboloud', 0.49059656262397766),\n",
       " ('presidenttrump', 0.4627569913864136),\n",
       " ('🙏', 0.44616925716400146)]"
      ]
     },
     "execution_count": 19,
     "metadata": {},
     "output_type": "execute_result"
    }
   ],
   "source": [
    "w2v_t.wv.most_similar(positive=['trump'], negative=['hillary'])"
   ]
  },
  {
   "cell_type": "code",
   "execution_count": 20,
   "metadata": {
    "autoscroll": false,
    "ein.hycell": false,
    "ein.tags": "worksheet-0",
    "slideshow": {
     "slide_type": "-"
    }
   },
   "outputs": [],
   "source": [
    "from scipy.spatial.distance import pdist,squareform\n",
    "import seaborn as sns\n",
    "\n",
    "def visualize_dist(V, tweets, idxs):\n",
    "    \"\"\" Visualize distances in heatmap\n",
    "\n",
    "    V is the vector of embeddings \n",
    "    tweets is a list or series that converts from idx to tweet\n",
    "    idxs is a list of integers that you would like to compare (<= 5 probably)\n",
    "    \"\"\"\n",
    "    m = squareform(pdist(V[idxs], 'cosine'))\n",
    "    _ = sns.heatmap(pd.DataFrame(m, columns = tweets[idxs], index= tweets[idxs]))"
   ]
  },
  {
   "cell_type": "code",
   "execution_count": 29,
   "metadata": {},
   "outputs": [
    {
     "data": {
      "image/png": "[encoded data removed]",
      "text/plain": [
       "<Figure size 432x288 with 2 Axes>"
      ]
     },
     "metadata": {},
     "output_type": "display_data"
    }
   ],
   "source": [
    "idxs = np.random.randint(len(tweets2), size=3)\n",
    "visualize_dist(SVDt, tweets, idxs)"
   ]
  },
  {
   "cell_type": "code",
   "execution_count": null,
   "metadata": {
    "autoscroll": false,
    "ein.hycell": false,
    "ein.tags": "worksheet-0",
    "slideshow": {
     "slide_type": "-"
    }
   },
   "outputs": [],
   "source": [
    "# More bonus!\n",
    "# Use one of the following pre-embedded models and see if your yelp scores improve? \n",
    "# What about your Twitter explorations?\n",
    "\n",
    "# https://github.com/RaRe-Technologies/gensim-data"
   ]
  }
 ],
 "metadata": {
  "kernelspec": {
   "display_name": "Python 3",
   "language": "python",
   "name": "python3"
  },
  "language_info": {
   "codemirror_mode": {
    "name": "ipython",
    "version": 3
   },
   "file_extension": ".py",
   "mimetype": "text/x-python",
   "name": "python",
   "nbconvert_exporter": "python",
   "pygments_lexer": "ipython3",
   "version": "3.6.8"
  },
  "name": "exercise-3.ipynb"
 },
 "nbformat": 4,
 "nbformat_minor": 2
}
