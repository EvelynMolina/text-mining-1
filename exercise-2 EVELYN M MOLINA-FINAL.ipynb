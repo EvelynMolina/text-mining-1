{
 "cells": [
  {
   "cell_type": "code",
   "execution_count": 1,
   "metadata": {
    "autoscroll": false,
    "ein.hycell": false,
    "ein.tags": "worksheet-0",
    "slideshow": {
     "slide_type": "-"
    }
   },
   "outputs": [],
   "source": [
    "import matplotlib.pyplot as plt\n",
    "plt.rcParams['figure.figsize'] = [14, 10]"
   ]
  },
  {
   "cell_type": "code",
   "execution_count": 2,
   "metadata": {
    "autoscroll": false,
    "ein.hycell": false,
    "ein.tags": "worksheet-0",
    "slideshow": {
     "slide_type": "-"
    }
   },
   "outputs": [],
   "source": [
    "import seaborn as sns\n",
    "import numpy as np\n",
    "import pandas as pd\n",
    "from sklearn.model_selection import cross_val_score\n",
    "from sklearn.naive_bayes import MultinomialNB\n",
    "from sklearn.linear_model import LogisticRegression\n",
    "from sklearn.decomposition import TruncatedSVD\n",
    "from sklearn.manifold import TSNE, MDS\n",
    "from bs4 import BeautifulSoup\n",
    "from sklearn.feature_extraction.text import TfidfVectorizer, CountVectorizer\n",
    "\n",
    "def preprocess(s):\n",
    "    s = BeautifulSoup(s, 'html5lib').get_text()\n",
    "    s = ' '.join(s.split())\n",
    "    s = s.strip().lower()\n",
    "    return s"
   ]
  },
  {
   "cell_type": "code",
   "execution_count": 3,
   "metadata": {
    "autoscroll": false,
    "ein.hycell": false,
    "ein.tags": "worksheet-0",
    "slideshow": {
     "slide_type": "-"
    }
   },
   "outputs": [],
   "source": [
    "# load and randomize\n",
    "\n",
    "yelps = pd.read_csv('sentiment/yelps.csv').sample(frac=1.)\n",
    "movies = pd.read_csv('sentiment/movies.csv').sample(frac=1.)"
   ]
  },
  {
   "cell_type": "markdown",
   "metadata": {
    "ein.tags": "worksheet-0",
    "slideshow": {
     "slide_type": "-"
    }
   },
   "source": [
    "## Inspecting p(X) of the BOW vectorizers\n",
    "\n",
    "Assuming that our data consists of discrete features, as in the Bag of Words models we have seen so far, visualizing $p(X)$ consists of visualizing the PMF of a multionomial distribution that consists of all the features in our data. \n",
    "\n",
    "Of course, this is a very wide distribution, even if we just include unigrams. \n",
    "\n",
    "Thus, we will visualize just the most popular features. \n",
    "\n",
    "We will see how, given the most popular features of one dataset, the other dataset compares. "
   ]
  },
  {
   "cell_type": "code",
   "execution_count": 4,
   "metadata": {
    "autoscroll": false,
    "ein.hycell": false,
    "ein.tags": "worksheet-0",
    "slideshow": {
     "slide_type": "-"
    }
   },
   "outputs": [],
   "source": [
    "from copy import deepcopy\n",
    "\n",
    "def _train_and_transform(vectorizer, X):\n",
    "    vectorizer.fit(X)\n",
    "    return vectorizer, vectorizer.transform(X)\n",
    "\n",
    "def compare(vectorizer, A, B): #TWO DIFFERENT VECTORS\n",
    "    vec_A, VA = _train_and_transform(deepcopy(vectorizer), A) \n",
    "    vec_B, VB = _train_and_transform(deepcopy(vectorizer), B) \n",
    "\n",
    "    # Get the most popular words for A\n",
    "    # ignoring the top 25 super common\n",
    "    # words\n",
    "    sums = np.array(VA.sum(0)).reshape(-1)   ### frequency of the words \n",
    "    tops = np.argsort(sums)[-325:-25]        ### sorts the words based on the frequency\n",
    "    freqs_A = sums[tops]                     ### ???\n",
    "\n",
    "    features = np.array(vec_A.get_feature_names())[tops]   ### calling the words\n",
    "\n",
    "    idxs = np.array([vec_B.vocabulary_.get(s) for s in features])     ### comparing which words in vec_A appear in B , does this mean only these words are in both A and B?\n",
    "    sums = np.array(VB.sum(0)).reshape(-1)\n",
    "    freqs_B = [sums[i] if i else 0. for i in idxs]     ### ???\n",
    "\n",
    "    return pd.concat([pd.DataFrame({ 'word': features, 'dataset': d, 'freq': f }) \n",
    "                      for d,f in [('A',freqs_A), ('B',freqs_B)]])"
   ]
  },
  {
   "cell_type": "code",
   "execution_count": 5,
   "metadata": {
    "autoscroll": false,
    "ein.hycell": false,
    "ein.tags": "worksheet-0",
    "slideshow": {
     "slide_type": "-"
    }
   },
   "outputs": [],
   "source": [
    "vectorizer = TfidfVectorizer(preprocessor = preprocess, min_df = 1, use_idf=False)\n",
    "df = compare(vectorizer, yelps.sample(500).text, movies.sample(500).text)"
   ]
  },
  {
   "cell_type": "code",
   "execution_count": 6,
   "metadata": {},
   "outputs": [
    {
     "data": {
      "text/html": [
       "<div>\n",
       "<style scoped>\n",
       "    .dataframe tbody tr th:only-of-type {\n",
       "        vertical-align: middle;\n",
       "    }\n",
       "\n",
       "    .dataframe tbody tr th {\n",
       "        vertical-align: top;\n",
       "    }\n",
       "\n",
       "    .dataframe thead th {\n",
       "        text-align: right;\n",
       "    }\n",
       "</style>\n",
       "<table border=\"1\" class=\"dataframe\">\n",
       "  <thead>\n",
       "    <tr style=\"text-align: right;\">\n",
       "      <th></th>\n",
       "      <th>word</th>\n",
       "      <th>dataset</th>\n",
       "      <th>freq</th>\n",
       "    </tr>\n",
       "  </thead>\n",
       "  <tbody>\n",
       "    <tr>\n",
       "      <th>0</th>\n",
       "      <td>used</td>\n",
       "      <td>A</td>\n",
       "      <td>1.475737</td>\n",
       "    </tr>\n",
       "    <tr>\n",
       "      <th>1</th>\n",
       "      <td>options</td>\n",
       "      <td>A</td>\n",
       "      <td>1.476206</td>\n",
       "    </tr>\n",
       "    <tr>\n",
       "      <th>2</th>\n",
       "      <td>highly</td>\n",
       "      <td>A</td>\n",
       "      <td>1.477350</td>\n",
       "    </tr>\n",
       "    <tr>\n",
       "      <th>3</th>\n",
       "      <td>felt</td>\n",
       "      <td>A</td>\n",
       "      <td>1.482937</td>\n",
       "    </tr>\n",
       "    <tr>\n",
       "      <th>4</th>\n",
       "      <td>actually</td>\n",
       "      <td>A</td>\n",
       "      <td>1.484884</td>\n",
       "    </tr>\n",
       "  </tbody>\n",
       "</table>\n",
       "</div>"
      ],
      "text/plain": [
       "       word dataset      freq\n",
       "0      used       A  1.475737\n",
       "1   options       A  1.476206\n",
       "2    highly       A  1.477350\n",
       "3      felt       A  1.482937\n",
       "4  actually       A  1.484884"
      ]
     },
     "execution_count": 6,
     "metadata": {},
     "output_type": "execute_result"
    }
   ],
   "source": [
    "df[df.dataset == 'A'].head()"
   ]
  },
  {
   "cell_type": "code",
   "execution_count": 7,
   "metadata": {
    "autoscroll": false,
    "ein.hycell": false,
    "ein.tags": "worksheet-0",
    "slideshow": {
     "slide_type": "-"
    }
   },
   "outputs": [
    {
     "data": {
      "text/plain": [
       "<matplotlib.axes._subplots.AxesSubplot at 0x1a252708d0>"
      ]
     },
     "execution_count": 7,
     "metadata": {},
     "output_type": "execute_result"
    },
    {
     "data": {
      "image/png": "[encoded data removed]",
      "text/plain": [
       "<Figure size 432x288 with 1 Axes>"
      ]
     },
     "metadata": {},
     "output_type": "display_data"
    }
   ],
   "source": [
    "sns.barplot(x = 'word', \n",
    "            y = 'freq', \n",
    "            data = df[df.dataset == 'A'])"
   ]
  },
  {
   "cell_type": "code",
   "execution_count": 8,
   "metadata": {
    "autoscroll": false,
    "ein.hycell": false,
    "ein.tags": "worksheet-0",
    "slideshow": {
     "slide_type": "-"
    }
   },
   "outputs": [
    {
     "data": {
      "text/plain": [
       "<matplotlib.axes._subplots.AxesSubplot at 0x1a26044c18>"
      ]
     },
     "execution_count": 8,
     "metadata": {},
     "output_type": "execute_result"
    },
    {
     "data": {
      "image/png": "[encoded data removed]",
      "text/plain": [
       "<Figure size 432x288 with 1 Axes>"
      ]
     },
     "metadata": {},
     "output_type": "display_data"
    }
   ],
   "source": [
    "sns.barplot(x = 'word', \n",
    "            y = 'freq', \n",
    "            data = df[df.dataset == 'B'])"
   ]
  },
  {
   "cell_type": "markdown",
   "metadata": {
    "ein.tags": "worksheet-0",
    "slideshow": {
     "slide_type": "-"
    }
   },
   "source": [
    "## Generative vs. Discriminative\n",
    "\n",
    "Play around with the following plotting function. Is this consisten with the theoretical results of Ng and Jordan? Can you get the opposite results? Why? "
   ]
  },
  {
   "cell_type": "code",
   "execution_count": 9,
   "metadata": {
    "autoscroll": false,
    "ein.hycell": false,
    "ein.tags": "worksheet-0",
    "slideshow": {
     "slide_type": "slide"
    }
   },
   "outputs": [
    {
     "name": "stderr",
     "output_type": "stream",
     "text": [
      "/anaconda3/lib/python3.6/site-packages/bs4/__init__.py:219: UserWarning: \"b'..'\" looks like a filename, not markup. You should probably open this file and pass the filehandle into Beautiful Soup.\n",
      "  ' Beautiful Soup.' % markup)\n",
      "/anaconda3/lib/python3.6/site-packages/bs4/__init__.py:282: UserWarning: \"https://www.consumeraffairs.com/news/mypillow-gets-a-rude-awakening-as-the-better-business-bureau-gives-it-an-f-010517.html\" looks like a URL. Beautiful Soup is not an HTTP client. You should probably use an HTTP client like requests to get the document behind the URL, and feed that document to Beautiful Soup.\n",
      "  ' that document to Beautiful Soup.' % decoded_markup\n",
      "/anaconda3/lib/python3.6/site-packages/bs4/__init__.py:219: UserWarning: \"b'..'\" looks like a filename, not markup. You should probably open this file and pass the filehandle into Beautiful Soup.\n",
      "  ' Beautiful Soup.' % markup)\n"
     ]
    },
    {
     "data": {
      "text/plain": [
       "<matplotlib.axes._subplots.AxesSubplot at 0x1a27428470>"
      ]
     },
     "execution_count": 9,
     "metadata": {},
     "output_type": "execute_result"
    },
    {
     "data": {
      "image/png": "[encoded data removed]",
      "text/plain": [
       "<Figure size 432x288 with 1 Axes>"
      ]
     },
     "metadata": {},
     "output_type": "display_data"
    }
   ],
   "source": [
    "# add vectors here\n",
    "V = vectorizer.fit_transform(yelps.text)\n",
    "y = yelps.positive\n",
    "\n",
    "def _cv_score(V, y, models):\n",
    "    return [{ 'name': name, 'value': np.mean(cross_val_score(model, V, y, cv=3)) }\n",
    "            for name, model in models]\n",
    "\n",
    "def plot_cv_scores(V, y, models, ticks):\n",
    "    scores = [_cv_score(V[:t], y[:t], models) for t in ticks]        \n",
    "    scores = [({'N': np.log(t) , **i}) for t,s \n",
    "              in zip(ticks, scores) for i in s]\n",
    "    df = pd.DataFrame(scores)\n",
    "    return sns.lineplot(y='value', x='N', hue='name', data=df)\n",
    "\n",
    "models = [('NB', MultinomialNB(fit_prior=False)), \n",
    "          ('LR', LogisticRegression())]\n",
    "\n",
    "plot_cv_scores(V, y, models, [300, 600, 1200, 2400, 4800, 9600, 19200])"
   ]
  },
  {
   "cell_type": "markdown",
   "metadata": {
    "ein.tags": "worksheet-0",
    "slideshow": {
     "slide_type": "-"
    }
   },
   "source": [
    "## Searching the Grid\n",
    "\n",
    "Hyperparameter tuning, in its simplest form, can be done via a grid search. \n",
    "\n",
    "We can use cross validation to estimate the out-of-sample expected risk. \n",
    "\n",
    "SKlearn gives us a very nice package for this: GridSearchCV\n",
    "\n",
    "The API can be a bit complicated at first glance, but it's simple once you get used to it and comfortable with the idea of a \"pipeline\". "
   ]
  },
  {
   "cell_type": "code",
   "execution_count": 54,
   "metadata": {
    "autoscroll": false,
    "ein.hycell": false,
    "ein.tags": "worksheet-0",
    "slideshow": {
     "slide_type": "-"
    }
   },
   "outputs": [],
   "source": [
    "# Preparing the data and trying several different models with their default hyperparameters.\n",
    "from sklearn.model_selection import GridSearchCV\n",
    "from sklearn.model_selection import train_test_split\n",
    "from sklearn.svm import SVC\n",
    "from sklearn import metrics"
   ]
  },
  {
   "cell_type": "markdown",
   "metadata": {
    "ein.tags": "worksheet-0",
    "slideshow": {
     "slide_type": "-"
    }
   },
   "source": [
    "## Crosstraining\n",
    "\n",
    "Test how well your model, when trained on one dataset, performs on the other. \n",
    "\n",
    "To do this, make sure that you: \n",
    "\n",
    "1. You perform the \"fitting\" of both the vectorizer and the model on one of the sets\n",
    "2. Use the \"transform\" of the vectorizer to transform the second dataset into the same feature space (X) that your model was trained on. \n",
    "3. Use the \"predict\" of your model to see how well it did on the second dataset. \n",
    "\n",
    "How well does your model generalize from one to the other? What does this say about \"sentiment\"? "
   ]
  },
  {
   "cell_type": "code",
   "execution_count": 55,
   "metadata": {},
   "outputs": [],
   "source": [
    "# Perform this on a smaller sample of the data to not break your machine\n",
    "\n",
    "movies = movies.sample(1000)\n",
    "yelps = yelps.sample(1000)\n",
    "\n",
    "yelp_train = vectorizer.fit_transform(yelps.text)\n",
    "movies_test = vectorizer.transform(movies.text)"
   ]
  },
  {
   "cell_type": "markdown",
   "metadata": {},
   "source": [
    "### 1. Using SVC"
   ]
  },
  {
   "cell_type": "code",
   "execution_count": 56,
   "metadata": {},
   "outputs": [],
   "source": [
    "# Set the parameters using the cross-validation\n",
    "tuned_parameters = [{'kernel': ['rbf'], 'C': [1, 10, 100, 1000]},\n",
    "                    {'kernel': ['linear'], 'C': [1, 10, 100, 1000]}]\n",
    "clf_svm = GridSearchCV(SVC(), tuned_parameters, cv=5, return_train_score=True)\n",
    "model_svm=clf_svm.fit(yelp_train, yelps.positive)"
   ]
  },
  {
   "cell_type": "code",
   "execution_count": 57,
   "metadata": {},
   "outputs": [
    {
     "name": "stdout",
     "output_type": "stream",
     "text": [
      "Best parameters set found on development set: SVC(C=1, cache_size=200, class_weight=None, coef0=0.0,\n",
      "  decision_function_shape='ovr', degree=3, gamma='auto', kernel='linear',\n",
      "  max_iter=-1, probability=False, random_state=None, shrinking=True,\n",
      "  tol=0.001, verbose=False)\n",
      "Best parameters set found on development set: 0.875\n"
     ]
    }
   ],
   "source": [
    "print(\"Best parameters set found on development set:\", model_svm.best_estimator_)\n",
    "print(\"Best parameters set found on development set:\", model_svm.best_score_)"
   ]
  },
  {
   "cell_type": "code",
   "execution_count": 58,
   "metadata": {},
   "outputs": [],
   "source": [
    "pred_movies = clf_svm.predict(movies_test)"
   ]
  },
  {
   "cell_type": "code",
   "execution_count": 59,
   "metadata": {},
   "outputs": [
    {
     "name": "stdout",
     "output_type": "stream",
     "text": [
      "0.679\n"
     ]
    }
   ],
   "source": [
    "print(metrics.accuracy_score(movies.positive, pred_movies))"
   ]
  },
  {
   "cell_type": "code",
   "execution_count": 60,
   "metadata": {},
   "outputs": [
    {
     "name": "stdout",
     "output_type": "stream",
     "text": [
      "[[326 152]\n",
      " [169 353]]\n"
     ]
    }
   ],
   "source": [
    "print(metrics.confusion_matrix(movies.positive, pred_movies))"
   ]
  },
  {
   "cell_type": "markdown",
   "metadata": {},
   "source": [
    "### 2. Using Logistic Regression"
   ]
  },
  {
   "cell_type": "code",
   "execution_count": 61,
   "metadata": {},
   "outputs": [],
   "source": [
    "# Set parameters using logistic regresssion\n",
    "from sklearn.linear_model import LogisticRegression"
   ]
  },
  {
   "cell_type": "code",
   "execution_count": 62,
   "metadata": {},
   "outputs": [],
   "source": [
    "tuned_parameters_lm = {'C':[1, 10, 100, 1000]}\n",
    "clf_lr = GridSearchCV(LogisticRegression(), tuned_parameters_lm, cv=5)\n",
    "model_lr=clf_lr.fit(yelp_train, yelps.positive)"
   ]
  },
  {
   "cell_type": "code",
   "execution_count": 63,
   "metadata": {},
   "outputs": [
    {
     "name": "stdout",
     "output_type": "stream",
     "text": [
      "Best parameters set found on development set: LogisticRegression(C=1000, class_weight=None, dual=False, fit_intercept=True,\n",
      "          intercept_scaling=1, max_iter=100, multi_class='ovr', n_jobs=1,\n",
      "          penalty='l2', random_state=None, solver='liblinear', tol=0.0001,\n",
      "          verbose=0, warm_start=False)\n",
      "Best parameters set found on development set: 0.877\n"
     ]
    }
   ],
   "source": [
    "print(\"Best parameters set found on development set:\", model_lr.best_estimator_)\n",
    "print(\"Best parameters set found on development set:\", model_lr.best_score_)"
   ]
  },
  {
   "cell_type": "code",
   "execution_count": 64,
   "metadata": {},
   "outputs": [],
   "source": [
    "pred_movies_lr = clf_lr.predict(movies_test)"
   ]
  },
  {
   "cell_type": "code",
   "execution_count": 65,
   "metadata": {},
   "outputs": [
    {
     "name": "stdout",
     "output_type": "stream",
     "text": [
      "0.704\n"
     ]
    }
   ],
   "source": [
    "print(metrics.accuracy_score(movies.positive, pred_movies_lr))"
   ]
  },
  {
   "cell_type": "code",
   "execution_count": 66,
   "metadata": {},
   "outputs": [
    {
     "name": "stdout",
     "output_type": "stream",
     "text": [
      "[[336 142]\n",
      " [154 368]]\n"
     ]
    }
   ],
   "source": [
    "print(metrics.confusion_matrix(movies.positive, pred_movies_lr))"
   ]
  },
  {
   "cell_type": "markdown",
   "metadata": {},
   "source": [
    "#### Out of the two models, it seems logistic regression does a better job, nevertheless in both models there are more false negatives."
   ]
  },
  {
   "cell_type": "code",
   "execution_count": null,
   "metadata": {},
   "outputs": [],
   "source": []
  }
 ],
 "metadata": {
  "kernelspec": {
   "display_name": "Python 3",
   "language": "python",
   "name": "python3"
  },
  "language_info": {
   "codemirror_mode": {
    "name": "ipython",
    "version": 3
   },
   "file_extension": ".py",
   "mimetype": "text/x-python",
   "name": "python",
   "nbconvert_exporter": "python",
   "pygments_lexer": "ipython3",
   "version": "3.6.8"
  },
  "name": "exercise-2.ipynb"
 },
 "nbformat": 4,
 "nbformat_minor": 2
}
